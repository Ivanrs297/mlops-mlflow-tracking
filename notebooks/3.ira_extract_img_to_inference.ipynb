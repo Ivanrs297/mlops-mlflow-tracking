{
 "cells": [
  {
   "cell_type": "code",
   "execution_count": null,
   "metadata": {},
   "outputs": [],
   "source": [
    "import json\n",
    "import torch\n",
    "from torchvision import transforms\n",
    "from PIL import Image\n",
    "\n",
    "# Define preprocessing\n",
    "preprocess = transforms.Compose([\n",
    "    transforms.Resize((28, 28)),\n",
    "    transforms.ToTensor(),\n",
    "    transforms.Normalize(mean=[0.5], std=[0.5])  # Normalize as done during training\n",
    "])\n",
    "\n",
    "# Load and preprocess the image\n",
    "image = Image.open(\"path_to_image.jpg\")\n",
    "image_tensor = preprocess(image).unsqueeze(0)  # Add batch dimension\n",
    "\n",
    "# Convert the tensor to a list for JSON\n",
    "image_numpy = image_tensor.numpy().tolist()\n",
    "\n",
    "# Create the JSON payload\n",
    "data = json.dumps({\n",
    "    \"inputs\": image_numpy\n",
    "})\n",
    "\n",
    "# Print or save the JSON to a file\n",
    "print(data)"
   ]
  }
 ],
 "metadata": {
  "kernelspec": {
   "display_name": "Python 3",
   "language": "python",
   "name": "python3"
  },
  "language_info": {
   "name": "python",
   "version": "3.8.0"
  }
 },
 "nbformat": 4,
 "nbformat_minor": 2
}
